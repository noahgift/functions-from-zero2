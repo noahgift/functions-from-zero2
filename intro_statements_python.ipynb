{
  "nbformat": 4,
  "nbformat_minor": 0,
  "metadata": {
    "colab": {
      "name": "intro-statements-python.ipynb",
      "provenance": [],
      "machine_shape": "hm",
      "authorship_tag": "ABX9TyNs3Y0SE4nqo6CariDQ5yHF",
      "include_colab_link": true
    },
    "kernelspec": {
      "name": "python3",
      "display_name": "Python 3"
    },
    "language_info": {
      "name": "python"
    }
  },
  "cells": [
    {
      "cell_type": "markdown",
      "metadata": {
        "id": "view-in-github",
        "colab_type": "text"
      },
      "source": [
        "<a href=\"https://colab.research.google.com/github/noahgift/functions-from-zero2/blob/main/intro_statements_python.ipynb\" target=\"_parent\"><img src=\"https://colab.research.google.com/assets/colab-badge.svg\" alt=\"Open In Colab\"/></a>"
      ]
    },
    {
      "cell_type": "markdown",
      "source": [
        "## Statements"
      ],
      "metadata": {
        "id": "2qe9ohr78Y_N"
      }
    },
    {
      "cell_type": "markdown",
      "source": [
        "### Hello World"
      ],
      "metadata": {
        "id": "7gDmy2lP8fKI"
      }
    },
    {
      "cell_type": "code",
      "source": [
        "print(\"Hello World\")"
      ],
      "metadata": {
        "colab": {
          "base_uri": "https://localhost:8080/"
        },
        "id": "p6if5Iw_8hCz",
        "outputId": "6db47f23-feb0-477f-9b8f-b085379b3931"
      },
      "execution_count": 2,
      "outputs": [
        {
          "output_type": "stream",
          "name": "stdout",
          "text": [
            "Hello World\n"
          ]
        }
      ]
    },
    {
      "cell_type": "code",
      "source": [
        "x = 1\n",
        "y = 2\n",
        "result = x +y\n",
        "print(f\"This is the result {result}\")"
      ],
      "metadata": {
        "colab": {
          "base_uri": "https://localhost:8080/"
        },
        "id": "Npi0pggV9ZxT",
        "outputId": "71b75642-d3b5-48c9-b08d-d9e58b731496"
      },
      "execution_count": 3,
      "outputs": [
        {
          "output_type": "stream",
          "name": "stdout",
          "text": [
            "This is the result 3\n"
          ]
        }
      ]
    },
    {
      "cell_type": "code",
      "source": [
        ""
      ],
      "metadata": {
        "id": "kkX9Aux990uQ"
      },
      "execution_count": null,
      "outputs": []
    },
    {
      "cell_type": "markdown",
      "source": [
        "### Data Structures"
      ],
      "metadata": {
        "id": "M46Yzzaw-XlU"
      }
    },
    {
      "cell_type": "markdown",
      "source": [
        "##### Lists"
      ],
      "metadata": {
        "id": "ZcTW1g7K-gJ-"
      }
    },
    {
      "cell_type": "code",
      "source": [
        "my_list = []    #like a basket at the supermarket"
      ],
      "metadata": {
        "id": "QJd0_E9I-aP7"
      },
      "execution_count": 5,
      "outputs": []
    },
    {
      "cell_type": "code",
      "source": [
        "my_list.append(\"cherry\")"
      ],
      "metadata": {
        "id": "_z8vbQzb-k67"
      },
      "execution_count": 6,
      "outputs": []
    },
    {
      "cell_type": "code",
      "source": [
        "print(my_list)"
      ],
      "metadata": {
        "colab": {
          "base_uri": "https://localhost:8080/"
        },
        "id": "L-6Em8Bd-vYC",
        "outputId": "1422aab2-61b9-4d82-e901-cf904dbc7648"
      },
      "execution_count": 7,
      "outputs": [
        {
          "output_type": "stream",
          "name": "stdout",
          "text": [
            "['cherry']\n"
          ]
        }
      ]
    },
    {
      "cell_type": "code",
      "source": [
        "my_list.append(\"apple\")"
      ],
      "metadata": {
        "id": "-EfqOVlM-x7f"
      },
      "execution_count": 8,
      "outputs": []
    },
    {
      "cell_type": "code",
      "source": [
        "print(my_list)"
      ],
      "metadata": {
        "colab": {
          "base_uri": "https://localhost:8080/"
        },
        "id": "qFUN9Fv6-1Am",
        "outputId": "292418aa-c42c-4a85-bf45-b8d88973e46f"
      },
      "execution_count": 9,
      "outputs": [
        {
          "output_type": "stream",
          "name": "stdout",
          "text": [
            "['cherry', 'apple']\n"
          ]
        }
      ]
    },
    {
      "cell_type": "markdown",
      "source": [
        "##### Looping"
      ],
      "metadata": {
        "id": "LKtVAHz2-8LR"
      }
    },
    {
      "cell_type": "code",
      "source": [
        "for fruit in my_list:\n",
        "    print(f\"I love to eat this type of fruit: {fruit}\")"
      ],
      "metadata": {
        "colab": {
          "base_uri": "https://localhost:8080/"
        },
        "id": "SEYrRTUu-2dy",
        "outputId": "0b1e93ec-fb75-4ef6-9342-11fb1cab05e9"
      },
      "execution_count": 10,
      "outputs": [
        {
          "output_type": "stream",
          "name": "stdout",
          "text": [
            "I love to eat this type of fruit: cherry\n",
            "I love to eat this type of fruit: apple\n"
          ]
        }
      ]
    },
    {
      "cell_type": "markdown",
      "source": [
        "##### Push to list"
      ],
      "metadata": {
        "id": "WpzukG5L_Xbv"
      }
    },
    {
      "cell_type": "code",
      "source": [
        "container = []\n",
        "for _ in range(5):\n",
        "    container.append(\"item\")\n",
        "\n",
        "\n"
      ],
      "metadata": {
        "id": "xibXOEGN_JOz"
      },
      "execution_count": 11,
      "outputs": []
    },
    {
      "cell_type": "code",
      "source": [
        "print(container)"
      ],
      "metadata": {
        "colab": {
          "base_uri": "https://localhost:8080/"
        },
        "id": "MFC9xdMO_n0_",
        "outputId": "ea84603a-49e7-416f-f810-4ab30a02e5fb"
      },
      "execution_count": 12,
      "outputs": [
        {
          "output_type": "stream",
          "name": "stdout",
          "text": [
            "['item', 'item', 'item', 'item', 'item']\n"
          ]
        }
      ]
    },
    {
      "cell_type": "markdown",
      "source": [
        "##### Random push to container"
      ],
      "metadata": {
        "id": "uxa_YFyC_5is"
      }
    },
    {
      "cell_type": "code",
      "source": [
        "from random import choices"
      ],
      "metadata": {
        "id": "MQaoKws1_qAa"
      },
      "execution_count": 13,
      "outputs": []
    },
    {
      "cell_type": "code",
      "source": [
        "fruits = [\"apple\", \"cherry\", \"strawberry\", \"peach\"] #This could be some external api\n",
        "fruit_salad = []\n",
        "for _ in range(3):\n",
        "    fruit_salad.append(choices(fruits))\n",
        "print(f\"I enjoyed a fruit salad with the following fruits: {fruit_salad}\")"
      ],
      "metadata": {
        "colab": {
          "base_uri": "https://localhost:8080/"
        },
        "id": "XsHlvOz8_9So",
        "outputId": "3d4f99db-ba4f-4d0f-a27c-b85146515435"
      },
      "execution_count": 18,
      "outputs": [
        {
          "output_type": "stream",
          "name": "stdout",
          "text": [
            "I enjoyed a fruit salad with the following fruits: [['peach'], ['strawberry'], ['apple']]\n"
          ]
        }
      ]
    },
    {
      "cell_type": "code",
      "source": [
        ""
      ],
      "metadata": {
        "id": "KdqsKg1hAZUN"
      },
      "execution_count": null,
      "outputs": []
    }
  ]
}